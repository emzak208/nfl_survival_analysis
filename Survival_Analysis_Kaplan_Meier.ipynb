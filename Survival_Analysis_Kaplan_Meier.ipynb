{
 "cells": [
  {
   "cell_type": "markdown",
   "metadata": {},
   "source": [
    "# What is Survival Analysis?\n",
    "\n",
    "[Survival analysis](https://en.wikipedia.org/wiki/Survival_analysis) is used to study the **time** until some **event** of interest (often reffered to as **death**) occurs.  Time could be measured in years, months, weeks, days, etc.  The event could be anything of interest.  It could be an actual death, a birth, a Pokemon Go server crash, etc. In this post we are interested in how long drafted NFL players are in the league, so the event of interest will be the retirement of drafted NFL players. The duration of time leading up to the event of interest can be called the **survival time**. In our case, the survival time the number of years that a player was active in the league (according to [Pro Football Reference](http://www.pro-football-reference.com/)).  \n",
    "\n",
    "Some of the players in this analysis are still active players (e.g. Aaron Rodgers, Eli Manning, etc.), so we have yet to observe their retirement (the event of interest).  Those players are considered **censored**. While we have some information about their career length (or survival time), we don't know the full length of their career.  This specific type of censorship, one in which we do not observe end of the survival time, is called **right-censorship**.  The methods developed in the field of survival analysis were created in order to deal with the issue of censored data.  In this post we will use one such method, called the [Kaplan-Meier estimator](https://en.wikipedia.org/wiki/Kaplan%E2%80%93Meier_estimator), to estimate the survival function and construct a survival curve for an NFL career.\n",
    "\n",
    "\n",
    "## A brief comment on the data used.\n",
    "\n",
    "I used the draft data scraped from my [previous post](http://savvastjortjoglou.com/nfl-draft.html). The duration of a player's career is just the difference between \"To\" value from the [PFR draft table](http://www.pro-football-reference.com/years/2015/draft.htm) and the year the player was drafted.  I also was able to find which players were still considered active by just seeing who's name was in bold.  However there are may be some players who are retired that PFR still considers active. You can check out how prepped the data in [this Jupyter notebook](https://github.com/savvastj/nfl_survival_analysis/blob/master/Data_Prep.ipynb). Let me know if you see any issues/mistakes I've made.\n",
    "\n",
    "# What is the Survival Function?\n",
    "\n",
    "The [survival function](https://en.wikipedia.org/wiki/Survival_function), $S(t)$, of a population is defined as follows:\n",
    "\n",
    "$$S(t) = Pr(T > t)$$\n",
    "\n",
    "Capital $T$ is a [random variable](https://www.khanacademy.org/math/probability/random-variables-topic/random-variables-prob-dist/v/random-variables) that represents a subject's survival time. In our case $T$ represents an NFL player's career length. Lower case $t$ represents a specific time of interest for $T$. In our analysis the $t$ represents the specific number of years for a player's career. \n",
    "\n",
    "To put it simply the survival function just gives us the probability that someone survives longer than (or at least as long as) a specified value of time, $t$.  So in the context of our analysis, $S(3)$ will provide us the probability that an NFL career lasts longer than 3 years.\n",
    "\n",
    "# What is the Kaplan-Meier estimator?\n",
    "\n",
    "To estimate the survival function of NFL players we will use the Kaplan-Meier estimator.  The Kaplan-Meier estimator is defined by the following product:\n",
    "\n",
    "$$\\hat{S}(t) = \\prod_{t_i \\lt t} \\frac{n_i - d_i}{n_i}$$\n",
    "\n",
    "where $d_i$ are the number of death events at time $t$ and $n_i$ is the number of subjects at risk of death just prior to time $t$. \n",
    "\n",
    "I'll go in a bit more detail regarding the above notation soon, but for now lets start writing up some code.\n",
    "\n",
    "**NOTE** I just grabbed the above definition stright from the `lifelines` [documentation](https://lifelines.readthedocs.io/en/latest/Intro%20to%20lifelines.html#estimating-the-survival-function-using-kaplan-meier)\n",
    "\n",
    "# Estimate the Survival Function of NFL Players using the `lifelines` Library.\n",
    "\n",
    "Lets set things up by importing what we need, reading in the data, and setting up some plot aesthetics."
   ]
  },
  {
   "cell_type": "code",
   "execution_count": 1,
   "metadata": {
    "collapsed": false
   },
   "outputs": [],
   "source": [
    "%matplotlib inline\n",
    "\n",
    "import pandas as pd\n",
    "import numpy as np\n",
    "import matplotlib.pyplot as plt\n",
    "import seaborn as sns\n",
    "from lifelines import KaplanMeierFitter\n",
    "\n",
    "draft_df = pd.read_csv(\"data/nfl_survival_analysis_data.csv\")\n",
    "\n",
    "# set some plotting aesthetics, similar to ggplot\n",
    "sns.set(palette = \"colorblind\", font_scale = 1.35, \n",
    "        rc = {\"figure.figsize\": (12,9), \"axes.facecolor\": \".92\"})"
   ]
  },
  {
   "cell_type": "code",
   "execution_count": 2,
   "metadata": {
    "collapsed": false
   },
   "outputs": [
    {
     "data": {
      "text/html": [
       "<div>\n",
       "<table border=\"1\" class=\"dataframe\">\n",
       "  <thead>\n",
       "    <tr style=\"text-align: right;\">\n",
       "      <th></th>\n",
       "      <th>Draft_Yr</th>\n",
       "      <th>Rnd</th>\n",
       "      <th>Pick</th>\n",
       "      <th>Tm</th>\n",
       "      <th>Player</th>\n",
       "      <th>Pos</th>\n",
       "      <th>Age</th>\n",
       "      <th>To</th>\n",
       "      <th>AP1</th>\n",
       "      <th>PB</th>\n",
       "      <th>...</th>\n",
       "      <th>Rec</th>\n",
       "      <th>Rec_Yds</th>\n",
       "      <th>Rec_TD</th>\n",
       "      <th>Tkl</th>\n",
       "      <th>Def_Int</th>\n",
       "      <th>Sk</th>\n",
       "      <th>College</th>\n",
       "      <th>Player_ID</th>\n",
       "      <th>Retired</th>\n",
       "      <th>Duration</th>\n",
       "    </tr>\n",
       "  </thead>\n",
       "  <tbody>\n",
       "    <tr>\n",
       "      <th>0</th>\n",
       "      <td>1967</td>\n",
       "      <td>1</td>\n",
       "      <td>1</td>\n",
       "      <td>BAL</td>\n",
       "      <td>Bubba Smith</td>\n",
       "      <td>DE</td>\n",
       "      <td>22</td>\n",
       "      <td>1976</td>\n",
       "      <td>1</td>\n",
       "      <td>2</td>\n",
       "      <td>...</td>\n",
       "      <td>0</td>\n",
       "      <td>0</td>\n",
       "      <td>0</td>\n",
       "      <td>0.0</td>\n",
       "      <td>0</td>\n",
       "      <td>0.0</td>\n",
       "      <td>Michigan St.</td>\n",
       "      <td>SmitBu00</td>\n",
       "      <td>1</td>\n",
       "      <td>10</td>\n",
       "    </tr>\n",
       "    <tr>\n",
       "      <th>1</th>\n",
       "      <td>1967</td>\n",
       "      <td>1</td>\n",
       "      <td>2</td>\n",
       "      <td>MIN</td>\n",
       "      <td>Clint Jones</td>\n",
       "      <td>RB</td>\n",
       "      <td>22</td>\n",
       "      <td>1973</td>\n",
       "      <td>0</td>\n",
       "      <td>0</td>\n",
       "      <td>...</td>\n",
       "      <td>38</td>\n",
       "      <td>431</td>\n",
       "      <td>0</td>\n",
       "      <td>0.0</td>\n",
       "      <td>0</td>\n",
       "      <td>0.0</td>\n",
       "      <td>Michigan St.</td>\n",
       "      <td>JoneCl00</td>\n",
       "      <td>1</td>\n",
       "      <td>7</td>\n",
       "    </tr>\n",
       "    <tr>\n",
       "      <th>2</th>\n",
       "      <td>1967</td>\n",
       "      <td>1</td>\n",
       "      <td>3</td>\n",
       "      <td>SFO</td>\n",
       "      <td>Steve Spurrier</td>\n",
       "      <td>QB</td>\n",
       "      <td>22</td>\n",
       "      <td>1976</td>\n",
       "      <td>0</td>\n",
       "      <td>0</td>\n",
       "      <td>...</td>\n",
       "      <td>0</td>\n",
       "      <td>0</td>\n",
       "      <td>0</td>\n",
       "      <td>0.0</td>\n",
       "      <td>0</td>\n",
       "      <td>0.0</td>\n",
       "      <td>Florida</td>\n",
       "      <td>SpurSt00</td>\n",
       "      <td>1</td>\n",
       "      <td>10</td>\n",
       "    </tr>\n",
       "    <tr>\n",
       "      <th>3</th>\n",
       "      <td>1967</td>\n",
       "      <td>1</td>\n",
       "      <td>4</td>\n",
       "      <td>MIA</td>\n",
       "      <td>Bob Griese</td>\n",
       "      <td>QB</td>\n",
       "      <td>22</td>\n",
       "      <td>1980</td>\n",
       "      <td>2</td>\n",
       "      <td>8</td>\n",
       "      <td>...</td>\n",
       "      <td>0</td>\n",
       "      <td>0</td>\n",
       "      <td>0</td>\n",
       "      <td>0.0</td>\n",
       "      <td>0</td>\n",
       "      <td>0.0</td>\n",
       "      <td>Purdue</td>\n",
       "      <td>GrieBo00</td>\n",
       "      <td>1</td>\n",
       "      <td>14</td>\n",
       "    </tr>\n",
       "    <tr>\n",
       "      <th>4</th>\n",
       "      <td>1967</td>\n",
       "      <td>1</td>\n",
       "      <td>5</td>\n",
       "      <td>HOU</td>\n",
       "      <td>George Webster</td>\n",
       "      <td>LB</td>\n",
       "      <td>21</td>\n",
       "      <td>1976</td>\n",
       "      <td>3</td>\n",
       "      <td>3</td>\n",
       "      <td>...</td>\n",
       "      <td>0</td>\n",
       "      <td>0</td>\n",
       "      <td>0</td>\n",
       "      <td>0.0</td>\n",
       "      <td>5</td>\n",
       "      <td>0.0</td>\n",
       "      <td>Michigan St.</td>\n",
       "      <td>WebsGe00</td>\n",
       "      <td>1</td>\n",
       "      <td>10</td>\n",
       "    </tr>\n",
       "  </tbody>\n",
       "</table>\n",
       "<p>5 rows × 32 columns</p>\n",
       "</div>"
      ],
      "text/plain": [
       "   Draft_Yr  Rnd  Pick   Tm          Player Pos  Age    To  AP1  PB    ...     \\\n",
       "0      1967    1     1  BAL     Bubba Smith  DE   22  1976    1   2    ...      \n",
       "1      1967    1     2  MIN     Clint Jones  RB   22  1973    0   0    ...      \n",
       "2      1967    1     3  SFO  Steve Spurrier  QB   22  1976    0   0    ...      \n",
       "3      1967    1     4  MIA      Bob Griese  QB   22  1980    2   8    ...      \n",
       "4      1967    1     5  HOU  George Webster  LB   21  1976    3   3    ...      \n",
       "\n",
       "   Rec  Rec_Yds  Rec_TD  Tkl  Def_Int   Sk       College  Player_ID  Retired  \\\n",
       "0    0        0       0  0.0        0  0.0  Michigan St.   SmitBu00        1   \n",
       "1   38      431       0  0.0        0  0.0  Michigan St.   JoneCl00        1   \n",
       "2    0        0       0  0.0        0  0.0       Florida   SpurSt00        1   \n",
       "3    0        0       0  0.0        0  0.0        Purdue   GrieBo00        1   \n",
       "4    0        0       0  0.0        5  0.0  Michigan St.   WebsGe00        1   \n",
       "\n",
       "   Duration  \n",
       "0        10  \n",
       "1         7  \n",
       "2        10  \n",
       "3        14  \n",
       "4        10  \n",
       "\n",
       "[5 rows x 32 columns]"
      ]
     },
     "execution_count": 2,
     "metadata": {},
     "output_type": "execute_result"
    }
   ],
   "source": [
    "draft_df.head()"
   ]
  },
  {
   "cell_type": "markdown",
   "metadata": {},
   "source": [
    "The columns of interest for our analysis are the *Duration* and *Retired* columns.  The *Duration* column represents the number of years a player played in the NFL.  The *Retired* column represents whether the player retired from the NFL or not.  1 indicates that he did, while 0 indicates that he is still and active player.\n",
    "\n",
    "Now lets construct the `KaplanMeierFitter` object we will be using in the rest of this post."
   ]
  },
  {
   "cell_type": "code",
   "execution_count": 3,
   "metadata": {
    "collapsed": true
   },
   "outputs": [],
   "source": [
    "kmf = KaplanMeierFitter()"
   ]
  },
  {
   "cell_type": "markdown",
   "metadata": {},
   "source": [
    "We can then fit the data by calling the `KaplanMeierFitter`s `fit` method."
   ]
  },
  {
   "cell_type": "code",
   "execution_count": 4,
   "metadata": {
    "collapsed": false
   },
   "outputs": [
    {
     "data": {
      "text/plain": [
       "<lifelines.KaplanMeierFitter: fitted with 15592 observations, 1629 censored>"
      ]
     },
     "execution_count": 4,
     "metadata": {},
     "output_type": "execute_result"
    }
   ],
   "source": [
    "# The 1st arg accepts an array or pd.Series of individual survival times\n",
    "# The 2nd arg accepts an array or pd.Series that indicates if the event \n",
    "# interest occured.\n",
    "kmf.fit(durations = draft_df.Duration, \n",
    "        event_observed = draft_df.Retired)"
   ]
  },
  {
   "cell_type": "markdown",
   "metadata": {},
   "source": [
    "## How to Calculate the Kaplan-Meier Estimate.\n",
    "\n",
    "After fitting our data we can access the survival table used to calculate the Kaplan-Meier Estimate via the `event_table` attribute."
   ]
  },
  {
   "cell_type": "code",
   "execution_count": 5,
   "metadata": {
    "collapsed": false,
    "scrolled": false
   },
   "outputs": [
    {
     "data": {
      "text/html": [
       "<div>\n",
       "<table border=\"1\" class=\"dataframe\">\n",
       "  <thead>\n",
       "    <tr style=\"text-align: right;\">\n",
       "      <th></th>\n",
       "      <th>removed</th>\n",
       "      <th>observed</th>\n",
       "      <th>censored</th>\n",
       "      <th>entrance</th>\n",
       "      <th>at_risk</th>\n",
       "    </tr>\n",
       "    <tr>\n",
       "      <th>event_at</th>\n",
       "      <th></th>\n",
       "      <th></th>\n",
       "      <th></th>\n",
       "      <th></th>\n",
       "      <th></th>\n",
       "    </tr>\n",
       "  </thead>\n",
       "  <tbody>\n",
       "    <tr>\n",
       "      <th>0</th>\n",
       "      <td>4597.0</td>\n",
       "      <td>4504.0</td>\n",
       "      <td>93.0</td>\n",
       "      <td>15592.0</td>\n",
       "      <td>15592.0</td>\n",
       "    </tr>\n",
       "    <tr>\n",
       "      <th>1</th>\n",
       "      <td>1310.0</td>\n",
       "      <td>1076.0</td>\n",
       "      <td>234.0</td>\n",
       "      <td>0.0</td>\n",
       "      <td>10995.0</td>\n",
       "    </tr>\n",
       "    <tr>\n",
       "      <th>2</th>\n",
       "      <td>1415.0</td>\n",
       "      <td>1176.0</td>\n",
       "      <td>239.0</td>\n",
       "      <td>0.0</td>\n",
       "      <td>9685.0</td>\n",
       "    </tr>\n",
       "    <tr>\n",
       "      <th>3</th>\n",
       "      <td>1183.0</td>\n",
       "      <td>952.0</td>\n",
       "      <td>231.0</td>\n",
       "      <td>0.0</td>\n",
       "      <td>8270.0</td>\n",
       "    </tr>\n",
       "    <tr>\n",
       "      <th>4</th>\n",
       "      <td>1126.0</td>\n",
       "      <td>942.0</td>\n",
       "      <td>184.0</td>\n",
       "      <td>0.0</td>\n",
       "      <td>7087.0</td>\n",
       "    </tr>\n",
       "    <tr>\n",
       "      <th>5</th>\n",
       "      <td>967.0</td>\n",
       "      <td>822.0</td>\n",
       "      <td>145.0</td>\n",
       "      <td>0.0</td>\n",
       "      <td>5961.0</td>\n",
       "    </tr>\n",
       "    <tr>\n",
       "      <th>6</th>\n",
       "      <td>915.0</td>\n",
       "      <td>782.0</td>\n",
       "      <td>133.0</td>\n",
       "      <td>0.0</td>\n",
       "      <td>4994.0</td>\n",
       "    </tr>\n",
       "    <tr>\n",
       "      <th>7</th>\n",
       "      <td>823.0</td>\n",
       "      <td>715.0</td>\n",
       "      <td>108.0</td>\n",
       "      <td>0.0</td>\n",
       "      <td>4079.0</td>\n",
       "    </tr>\n",
       "    <tr>\n",
       "      <th>8</th>\n",
       "      <td>743.0</td>\n",
       "      <td>667.0</td>\n",
       "      <td>76.0</td>\n",
       "      <td>0.0</td>\n",
       "      <td>3256.0</td>\n",
       "    </tr>\n",
       "    <tr>\n",
       "      <th>9</th>\n",
       "      <td>662.0</td>\n",
       "      <td>609.0</td>\n",
       "      <td>53.0</td>\n",
       "      <td>0.0</td>\n",
       "      <td>2513.0</td>\n",
       "    </tr>\n",
       "    <tr>\n",
       "      <th>10</th>\n",
       "      <td>580.0</td>\n",
       "      <td>523.0</td>\n",
       "      <td>57.0</td>\n",
       "      <td>0.0</td>\n",
       "      <td>1851.0</td>\n",
       "    </tr>\n",
       "    <tr>\n",
       "      <th>11</th>\n",
       "      <td>406.0</td>\n",
       "      <td>375.0</td>\n",
       "      <td>31.0</td>\n",
       "      <td>0.0</td>\n",
       "      <td>1271.0</td>\n",
       "    </tr>\n",
       "    <tr>\n",
       "      <th>12</th>\n",
       "      <td>313.0</td>\n",
       "      <td>291.0</td>\n",
       "      <td>22.0</td>\n",
       "      <td>0.0</td>\n",
       "      <td>865.0</td>\n",
       "    </tr>\n",
       "    <tr>\n",
       "      <th>13</th>\n",
       "      <td>198.0</td>\n",
       "      <td>184.0</td>\n",
       "      <td>14.0</td>\n",
       "      <td>0.0</td>\n",
       "      <td>552.0</td>\n",
       "    </tr>\n",
       "    <tr>\n",
       "      <th>14</th>\n",
       "      <td>149.0</td>\n",
       "      <td>146.0</td>\n",
       "      <td>3.0</td>\n",
       "      <td>0.0</td>\n",
       "      <td>354.0</td>\n",
       "    </tr>\n",
       "    <tr>\n",
       "      <th>15</th>\n",
       "      <td>88.0</td>\n",
       "      <td>85.0</td>\n",
       "      <td>3.0</td>\n",
       "      <td>0.0</td>\n",
       "      <td>205.0</td>\n",
       "    </tr>\n",
       "    <tr>\n",
       "      <th>16</th>\n",
       "      <td>52.0</td>\n",
       "      <td>49.0</td>\n",
       "      <td>3.0</td>\n",
       "      <td>0.0</td>\n",
       "      <td>117.0</td>\n",
       "    </tr>\n",
       "    <tr>\n",
       "      <th>17</th>\n",
       "      <td>33.0</td>\n",
       "      <td>33.0</td>\n",
       "      <td>0.0</td>\n",
       "      <td>0.0</td>\n",
       "      <td>65.0</td>\n",
       "    </tr>\n",
       "    <tr>\n",
       "      <th>18</th>\n",
       "      <td>11.0</td>\n",
       "      <td>11.0</td>\n",
       "      <td>0.0</td>\n",
       "      <td>0.0</td>\n",
       "      <td>32.0</td>\n",
       "    </tr>\n",
       "    <tr>\n",
       "      <th>19</th>\n",
       "      <td>5.0</td>\n",
       "      <td>5.0</td>\n",
       "      <td>0.0</td>\n",
       "      <td>0.0</td>\n",
       "      <td>21.0</td>\n",
       "    </tr>\n",
       "    <tr>\n",
       "      <th>20</th>\n",
       "      <td>8.0</td>\n",
       "      <td>8.0</td>\n",
       "      <td>0.0</td>\n",
       "      <td>0.0</td>\n",
       "      <td>16.0</td>\n",
       "    </tr>\n",
       "    <tr>\n",
       "      <th>21</th>\n",
       "      <td>5.0</td>\n",
       "      <td>5.0</td>\n",
       "      <td>0.0</td>\n",
       "      <td>0.0</td>\n",
       "      <td>8.0</td>\n",
       "    </tr>\n",
       "    <tr>\n",
       "      <th>22</th>\n",
       "      <td>1.0</td>\n",
       "      <td>1.0</td>\n",
       "      <td>0.0</td>\n",
       "      <td>0.0</td>\n",
       "      <td>3.0</td>\n",
       "    </tr>\n",
       "    <tr>\n",
       "      <th>23</th>\n",
       "      <td>1.0</td>\n",
       "      <td>1.0</td>\n",
       "      <td>0.0</td>\n",
       "      <td>0.0</td>\n",
       "      <td>2.0</td>\n",
       "    </tr>\n",
       "    <tr>\n",
       "      <th>26</th>\n",
       "      <td>1.0</td>\n",
       "      <td>1.0</td>\n",
       "      <td>0.0</td>\n",
       "      <td>0.0</td>\n",
       "      <td>1.0</td>\n",
       "    </tr>\n",
       "  </tbody>\n",
       "</table>\n",
       "</div>"
      ],
      "text/plain": [
       "          removed  observed  censored  entrance  at_risk\n",
       "event_at                                                \n",
       "0          4597.0    4504.0      93.0   15592.0  15592.0\n",
       "1          1310.0    1076.0     234.0       0.0  10995.0\n",
       "2          1415.0    1176.0     239.0       0.0   9685.0\n",
       "3          1183.0     952.0     231.0       0.0   8270.0\n",
       "4          1126.0     942.0     184.0       0.0   7087.0\n",
       "5           967.0     822.0     145.0       0.0   5961.0\n",
       "6           915.0     782.0     133.0       0.0   4994.0\n",
       "7           823.0     715.0     108.0       0.0   4079.0\n",
       "8           743.0     667.0      76.0       0.0   3256.0\n",
       "9           662.0     609.0      53.0       0.0   2513.0\n",
       "10          580.0     523.0      57.0       0.0   1851.0\n",
       "11          406.0     375.0      31.0       0.0   1271.0\n",
       "12          313.0     291.0      22.0       0.0    865.0\n",
       "13          198.0     184.0      14.0       0.0    552.0\n",
       "14          149.0     146.0       3.0       0.0    354.0\n",
       "15           88.0      85.0       3.0       0.0    205.0\n",
       "16           52.0      49.0       3.0       0.0    117.0\n",
       "17           33.0      33.0       0.0       0.0     65.0\n",
       "18           11.0      11.0       0.0       0.0     32.0\n",
       "19            5.0       5.0       0.0       0.0     21.0\n",
       "20            8.0       8.0       0.0       0.0     16.0\n",
       "21            5.0       5.0       0.0       0.0      8.0\n",
       "22            1.0       1.0       0.0       0.0      3.0\n",
       "23            1.0       1.0       0.0       0.0      2.0\n",
       "26            1.0       1.0       0.0       0.0      1.0"
      ]
     },
     "execution_count": 5,
     "metadata": {},
     "output_type": "execute_result"
    }
   ],
   "source": [
    "kmf.event_table"
   ]
  },
  {
   "cell_type": "markdown",
   "metadata": {},
   "source": [
    "The *removed* column contains the number of observations removed during that time value, whether due to death (the value in the *observed* column) or censorship. So the *removed* column is just the sum of the *observed* and *censorship* columns.  The *entrance* column tells us whether any new subjects entered the population at that time period.  Since all the players we are studying start at $time = 0$, the *entrance* value is 15,592 at that time and 0 for all other times.\n",
    "\n",
    "The *at_risk* column contains the number of subjects that are still alive during a given time. The value for *at_risk* at $time = 0$, is just equal to the *entrance* value.  For the remaining time periods, the *entrance* value is equal to the difference between the time previous period's *at_risk* value and *removed* value, plus the current period's *entrance* value. For example for $time = 1$, the number of subject's *at risk*  is 10,995 which is equal to 15,592 (the previous *at_risk* value) - 4,597 (the previous *removed* value) + 0 (the current period's *entrance* value).\n",
    "\n",
    "Since we have access to the survival table we can calculate the survival probability at different times \"by hand.\"\n",
    "\n",
    "Let us take a look at the definition of the Kaplan-Meier Estimate again:\n",
    "\n",
    "$$\\hat{S}(t) = \\prod_{t_i \\lt t} \\frac{n_i - d_i}{n_i}$$\n",
    "\n",
    "where  $d_i$  are the number of death events at time  $t$  and  $n_i$  is the number of subjects at risk of death just prior to time  $t$. \n",
    "\n",
    "What the above tells us, is to get the survival probability after a specific time, we multiply all the individual survival probabibilities for all individual time periods leading up to that specific time.\n",
    "\n",
    "We can define the survival probability for an individual time period as follows:\n",
    "\n",
    "$$S_t = \\frac{\\substack{\\text{Number of subjects} \\\\ \\text{at risk at the start}} - \\substack{\\text{Number of subjects} \\\\ \\text{that died}}}{\\substack{\\text{Number of subjects} \\\\ \\text{at risk at the start}}}$$\n",
    "\n",
    "Lets walk through a simple example and calculate the the probability that an NFL career lasts longer than 1 year. First we will need to calulculate the individual survival probabilities for $t = 0$ and $t = 1$.\n",
    "\n",
    "Here's the calcuation for the survival probability time for $t = 0$:\n",
    "\n",
    "$$S_0 = \\frac{15,592 - 4,504}{15,592} = \\frac{11,088}{15,592} \\approx 0.711$$\n",
    "\n",
    "And here's the equivalent code:"
   ]
  },
  {
   "cell_type": "code",
   "execution_count": 6,
   "metadata": {
    "collapsed": false
   },
   "outputs": [
    {
     "data": {
      "text/plain": [
       "0.71113391482811694"
      ]
     },
     "execution_count": 6,
     "metadata": {},
     "output_type": "execute_result"
    }
   ],
   "source": [
    "# get the values for time = 0 from the survival table\n",
    "event_at_0 = kmf.event_table.iloc[0, :]\n",
    "# now calculate the survival probability for t = 0\n",
    "surv_for_0 =  (event_at_0.at_risk - event_at_0.observed) / event_at_0.at_risk\n",
    "surv_for_0"
   ]
  },
  {
   "cell_type": "markdown",
   "metadata": {},
   "source": [
    "What the above number means that all drafted players have 71.1% chance of seeing any game action. In other (harsher) words, about 28.9% of drafted players are DOA.\n",
    "\n",
    "Now let's calulate the survival probability for $t = 1$:\n",
    "\n",
    "$$S_1 = \\frac{10,995 - 1,076}{10,995} = \\frac{9,919}{10,995} \\approx 0.902$$"
   ]
  },
  {
   "cell_type": "code",
   "execution_count": 7,
   "metadata": {
    "collapsed": false
   },
   "outputs": [
    {
     "data": {
      "text/plain": [
       "0.90213733515234196"
      ]
     },
     "execution_count": 7,
     "metadata": {},
     "output_type": "execute_result"
    }
   ],
   "source": [
    "# Calculate the survival probability for t = 1\n",
    "event_at_1 = kmf.event_table.iloc[1, :]\n",
    "surv_for_1 =  (event_at_1.at_risk - event_at_1.observed) / event_at_1.at_risk\n",
    "surv_for_1"
   ]
  },
  {
   "cell_type": "markdown",
   "metadata": {},
   "source": [
    "The value for $S_1$ represents the the conditional probability that if you are one of the players that do not immediately fail once drafted, then you have a 90.2% chance of playing 1 year of football.\n",
    "\n",
    "To calculate the probability that an NFL career will last more than 1 year, we multiply the two survival probabilities we just calculated:\n",
    "\n",
    "$$S(1) = S_0 \\times S_1 = \\frac{11,088}{15,592} \\times \\frac{9,919}{10,995} \\approx 0.642$$"
   ]
  },
  {
   "cell_type": "code",
   "execution_count": 8,
   "metadata": {
    "collapsed": false
   },
   "outputs": [
    {
     "data": {
      "text/plain": [
       "0.64154045485948996"
      ]
     },
     "execution_count": 8,
     "metadata": {},
     "output_type": "execute_result"
    }
   ],
   "source": [
    "# The probability that an NFL player has a career longer than 1 yr\n",
    "# is about 64.2%\n",
    "surv_after_1 = surv_for_0 * surv_for_1\n",
    "surv_after_1"
   ]
  },
  {
   "cell_type": "markdown",
   "metadata": {},
   "source": [
    "Hopefully going through that short example gives you a better idea of how the Kaplan-Meier estimator works.  \n",
    "\n",
    "Our `KaplanMeierFitter` object can do all of the above work for us pretty easily by just using its `predict` method.  The `predict` method can give us the probability that an NFL career lasts more than 1 year by just passing in the value 1."
   ]
  },
  {
   "cell_type": "code",
   "execution_count": 9,
   "metadata": {
    "collapsed": false
   },
   "outputs": [
    {
     "data": {
      "text/plain": [
       "0.64154045485948907"
      ]
     },
     "execution_count": 9,
     "metadata": {},
     "output_type": "execute_result"
    }
   ],
   "source": [
    "kmf.predict(1)"
   ]
  },
  {
   "cell_type": "markdown",
   "metadata": {},
   "source": [
    "That's pretty close to the value we calculated by hand, though it's not exactly the same.  I'm not sure why it isn't exact, but if you do, please let me know.\n",
    "\n",
    "The `predict` method can also handle an array of numbers."
   ]
  },
  {
   "cell_type": "code",
   "execution_count": 10,
   "metadata": {
    "collapsed": false
   },
   "outputs": [
    {
     "data": {
      "text/plain": [
       "array([ 0.64154045,  0.49875796,  0.37282823,  0.11208943])"
      ]
     },
     "execution_count": 10,
     "metadata": {},
     "output_type": "execute_result"
    }
   ],
   "source": [
    "kmf.predict([1,3,5,10])"
   ]
  },
  {
   "cell_type": "markdown",
   "metadata": {},
   "source": [
    "To get the full list of estimated probabilities from our `KaplanMeierFitter` access the `survival_function_` attribute, which is a `pandas DataFrame` containing all the estimates."
   ]
  },
  {
   "cell_type": "code",
   "execution_count": 11,
   "metadata": {
    "collapsed": false,
    "scrolled": false
   },
   "outputs": [
    {
     "data": {
      "text/html": [
       "<div>\n",
       "<table border=\"1\" class=\"dataframe\">\n",
       "  <thead>\n",
       "    <tr style=\"text-align: right;\">\n",
       "      <th></th>\n",
       "      <th>KM_estimate</th>\n",
       "    </tr>\n",
       "    <tr>\n",
       "      <th>timeline</th>\n",
       "      <th></th>\n",
       "    </tr>\n",
       "  </thead>\n",
       "  <tbody>\n",
       "    <tr>\n",
       "      <th>0.0</th>\n",
       "      <td>0.711134</td>\n",
       "    </tr>\n",
       "    <tr>\n",
       "      <th>1.0</th>\n",
       "      <td>0.641540</td>\n",
       "    </tr>\n",
       "    <tr>\n",
       "      <th>2.0</th>\n",
       "      <td>0.563641</td>\n",
       "    </tr>\n",
       "    <tr>\n",
       "      <th>3.0</th>\n",
       "      <td>0.498758</td>\n",
       "    </tr>\n",
       "    <tr>\n",
       "      <th>4.0</th>\n",
       "      <td>0.432463</td>\n",
       "    </tr>\n",
       "    <tr>\n",
       "      <th>5.0</th>\n",
       "      <td>0.372828</td>\n",
       "    </tr>\n",
       "    <tr>\n",
       "      <th>6.0</th>\n",
       "      <td>0.314448</td>\n",
       "    </tr>\n",
       "    <tr>\n",
       "      <th>7.0</th>\n",
       "      <td>0.259329</td>\n",
       "    </tr>\n",
       "    <tr>\n",
       "      <th>8.0</th>\n",
       "      <td>0.206205</td>\n",
       "    </tr>\n",
       "    <tr>\n",
       "      <th>9.0</th>\n",
       "      <td>0.156233</td>\n",
       "    </tr>\n",
       "    <tr>\n",
       "      <th>10.0</th>\n",
       "      <td>0.112089</td>\n",
       "    </tr>\n",
       "    <tr>\n",
       "      <th>11.0</th>\n",
       "      <td>0.079018</td>\n",
       "    </tr>\n",
       "    <tr>\n",
       "      <th>12.0</th>\n",
       "      <td>0.052435</td>\n",
       "    </tr>\n",
       "    <tr>\n",
       "      <th>13.0</th>\n",
       "      <td>0.034957</td>\n",
       "    </tr>\n",
       "    <tr>\n",
       "      <th>14.0</th>\n",
       "      <td>0.020540</td>\n",
       "    </tr>\n",
       "    <tr>\n",
       "      <th>15.0</th>\n",
       "      <td>0.012023</td>\n",
       "    </tr>\n",
       "    <tr>\n",
       "      <th>16.0</th>\n",
       "      <td>0.006988</td>\n",
       "    </tr>\n",
       "    <tr>\n",
       "      <th>17.0</th>\n",
       "      <td>0.003440</td>\n",
       "    </tr>\n",
       "    <tr>\n",
       "      <th>18.0</th>\n",
       "      <td>0.002258</td>\n",
       "    </tr>\n",
       "    <tr>\n",
       "      <th>19.0</th>\n",
       "      <td>0.001720</td>\n",
       "    </tr>\n",
       "    <tr>\n",
       "      <th>20.0</th>\n",
       "      <td>0.000860</td>\n",
       "    </tr>\n",
       "    <tr>\n",
       "      <th>21.0</th>\n",
       "      <td>0.000323</td>\n",
       "    </tr>\n",
       "    <tr>\n",
       "      <th>22.0</th>\n",
       "      <td>0.000215</td>\n",
       "    </tr>\n",
       "    <tr>\n",
       "      <th>23.0</th>\n",
       "      <td>0.000108</td>\n",
       "    </tr>\n",
       "    <tr>\n",
       "      <th>26.0</th>\n",
       "      <td>0.000000</td>\n",
       "    </tr>\n",
       "  </tbody>\n",
       "</table>\n",
       "</div>"
      ],
      "text/plain": [
       "          KM_estimate\n",
       "timeline             \n",
       "0.0          0.711134\n",
       "1.0          0.641540\n",
       "2.0          0.563641\n",
       "3.0          0.498758\n",
       "4.0          0.432463\n",
       "5.0          0.372828\n",
       "6.0          0.314448\n",
       "7.0          0.259329\n",
       "8.0          0.206205\n",
       "9.0          0.156233\n",
       "10.0         0.112089\n",
       "11.0         0.079018\n",
       "12.0         0.052435\n",
       "13.0         0.034957\n",
       "14.0         0.020540\n",
       "15.0         0.012023\n",
       "16.0         0.006988\n",
       "17.0         0.003440\n",
       "18.0         0.002258\n",
       "19.0         0.001720\n",
       "20.0         0.000860\n",
       "21.0         0.000323\n",
       "22.0         0.000215\n",
       "23.0         0.000108\n",
       "26.0         0.000000"
      ]
     },
     "execution_count": 11,
     "metadata": {},
     "output_type": "execute_result"
    }
   ],
   "source": [
    "kmf.survival_function_"
   ]
  },
  {
   "cell_type": "markdown",
   "metadata": {},
   "source": [
    "The `median_` attribute also provides us the number of years where on average 50% of players are out of the league (3 years)."
   ]
  },
  {
   "cell_type": "code",
   "execution_count": 12,
   "metadata": {
    "collapsed": false
   },
   "outputs": [
    {
     "data": {
      "text/plain": [
       "3.0"
      ]
     },
     "execution_count": 12,
     "metadata": {},
     "output_type": "execute_result"
    }
   ],
   "source": [
    "kmf.median_"
   ]
  },
  {
   "cell_type": "markdown",
   "metadata": {},
   "source": [
    "## Plotting the Kaplan-Meier Estimate"
   ]
  },
  {
   "cell_type": "markdown",
   "metadata": {},
   "source": [
    "Plotting the Kaplan-Meier estimate (along with its confidence intervals) is pretty straightfoward. All we need to do is call the `plot` method."
   ]
  },
  {
   "cell_type": "code",
   "execution_count": 13,
   "metadata": {
    "collapsed": false,
    "scrolled": false
   },
   "outputs": [
    {
     "data": {
      "image/png": "[encoded data removed]",
      "text/plain": [
       "<matplotlib.figure.Figure at 0x7f233ec7e0b8>"
      ]
     },
     "metadata": {},
     "output_type": "display_data"
    }
   ],
   "source": [
    "kmf.plot()\n",
    "plt.title(\"The Kaplan-Meier Estimate for Drafted NFL Players\")\n",
    "plt.ylabel(\"Probability a Player is Still Active\")\n",
    "\n",
    "plt.show()"
   ]
  },
  {
   "cell_type": "markdown",
   "metadata": {},
   "source": [
    "The first thing thing that you should notice is that the Kaplan-Meier estimate is a step function.  Each horizontal line represents the probability that a player is still active after a given time $t$.  For example, when $t = 0$, the probability that a player is still active after that point is about 71%."
   ]
  },
  {
   "cell_type": "markdown",
   "metadata": {},
   "source": [
    "### Plotting the Kaplan-Meier Estimate by Position.\n",
    "\n",
    "Before we plot the career lengths by position, lets clean up some of the data.  We will first merge or even drop some of the player positions.\n",
    "\n",
    "#### Merge or drop some player positions"
   ]
  },
  {
   "cell_type": "code",
   "execution_count": 14,
   "metadata": {
    "collapsed": false
   },
   "outputs": [
    {
     "data": {
      "text/plain": [
       "array(['DE', 'RB', 'QB', 'LB', 'WR', 'C', 'T', 'DT', 'G', 'HB', 'DB', 'TE',\n",
       "       'K', 'FL', 'E', 'P', 'FB', 'WB', 'NT', 'KR', 'OL', 'DL', 'OLB',\n",
       "       'CB', 'FS', 'ILB', 'SS', 'S', 'LS'], dtype=object)"
      ]
     },
     "execution_count": 14,
     "metadata": {},
     "output_type": "execute_result"
    }
   ],
   "source": [
    "draft_df.Pos.unique() # check out all the different positions"
   ]
  },
  {
   "cell_type": "code",
   "execution_count": 15,
   "metadata": {
    "collapsed": false
   },
   "outputs": [
    {
     "data": {
      "text/plain": [
       "DB     2668\n",
       "LB     2039\n",
       "RB     1798\n",
       "WR     1793\n",
       "DE     1242\n",
       "T      1174\n",
       "G      1028\n",
       "DT      987\n",
       "TE      873\n",
       "QB      722\n",
       "C       450\n",
       "K       197\n",
       "P       156\n",
       "NT      134\n",
       "FB       91\n",
       "FL       63\n",
       "OL       39\n",
       "E        29\n",
       "CB       29\n",
       "HB       23\n",
       "OLB      23\n",
       "ILB      11\n",
       "SS        7\n",
       "FS        5\n",
       "DL        4\n",
       "KR        3\n",
       "WB        2\n",
       "LS        1\n",
       "S         1\n",
       "Name: Pos, dtype: int64"
      ]
     },
     "execution_count": 15,
     "metadata": {},
     "output_type": "execute_result"
    }
   ],
   "source": [
    "draft_df.Pos.value_counts() # get a count for each position"
   ]
  },
  {
   "cell_type": "code",
   "execution_count": 16,
   "metadata": {
    "collapsed": true
   },
   "outputs": [],
   "source": [
    "# Relabel/Merge some of the positions\n",
    "# Set all HBs to RB\n",
    "draft_df.loc[draft_df.Pos == \"HB\", \"Pos\"] = \"RB\"\n",
    "\n",
    "# Set all Safetics and Cornernbacks to DBs\n",
    "draft_df.loc[draft_df.Pos.isin([\"SS\", \"FS\", \"S\", \"CB\"]), \"Pos\"] = \"DB\"\n",
    "\n",
    "# Set all types of Linebackers to LB\n",
    "draft_df.loc[draft_df.Pos.isin([\"OLB\", \"ILB\"]), \"Pos\"] = \"LB\""
   ]
  },
  {
   "cell_type": "code",
   "execution_count": 17,
   "metadata": {
    "collapsed": false
   },
   "outputs": [],
   "source": [
    "# drop players from the following positions [FL, E, WB, KR, LS, OL]\n",
    "# get the row indices for players with undesired postions\n",
    "idx = draft_df.Pos.isin([\"FL\", \"E\", \"WB\", \"KR\", \"LS\", \"DL\", \"OL\"])\n",
    "# keep the players that don't have the above positions\n",
    "draft_df_2 = draft_df.loc[~idx, :]"
   ]
  },
  {
   "cell_type": "code",
   "execution_count": 18,
   "metadata": {
    "collapsed": false
   },
   "outputs": [
    {
     "data": {
      "text/plain": [
       "15"
      ]
     },
     "execution_count": 18,
     "metadata": {},
     "output_type": "execute_result"
    }
   ],
   "source": [
    "len(draft_df_2.Pos.unique())"
   ]
  },
  {
   "cell_type": "code",
   "execution_count": 19,
   "metadata": {
    "collapsed": true
   },
   "outputs": [],
   "source": [
    "duration = draft_df_2.Duration\n",
    "observed = draft_df_2.Retired"
   ]
  },
  {
   "cell_type": "code",
   "execution_count": 20,
   "metadata": {
    "collapsed": false,
    "scrolled": false
   },
   "outputs": [
    {
     "data": {
      "image/png": "[encoded data removed]",
      "text/plain": [
       "<matplotlib.figure.Figure at 0x7f233bd745c0>"
      ]
     },
     "metadata": {},
     "output_type": "display_data"
    }
   ],
   "source": [
    "positions = draft_df_2.Pos.unique()\n",
    "\n",
    "fig = plt.figure(figsize=(12,15))\n",
    "\n",
    "for i, position in enumerate(positions):\n",
    "    ax = plt.subplot(5,3,i+1)\n",
    "    ix = draft_df_2.Pos == position\n",
    "    kmf.fit( duration[ix], observed[ix], label=position )\n",
    "    kmf.plot(ax=ax, legend=False)\n",
    "    ax.annotate(\"Median = {:.0f} yrs\".format(kmf.median_), xy = (.4, .85), \n",
    "            xycoords = \"axes fraction\")\n",
    "    plt.title(position)\n",
    "    plt.xlabel(\"\")\n",
    "    plt.xlim(0,25)\n",
    "    plt.ylim(0,1)\n",
    "#     if i==0:\n",
    "#         plt.ylabel('Frac. in power after $n$ years')\n",
    "plt.tight_layout()\n",
    "\n",
    "fig.suptitle(\"Survival Function for each NFL Position\\n(Drafted Players only)\",\n",
    "             fontsize=20)\n",
    "plt.subplots_adjust(top=0.92)"
   ]
  },
  {
   "cell_type": "markdown",
   "metadata": {},
   "source": [
    "### TRYING different method to create fecetted survival curve plot, by sharing axes, also try to create a function to do this more easily."
   ]
  },
  {
   "cell_type": "code",
   "execution_count": null,
   "metadata": {
    "collapsed": true
   },
   "outputs": [],
   "source": [
    "positions = draft_df_2.Pos.unique()\n",
    "\n",
    "for i, position in enumerate(positions):\n",
    "    fig, ax = plt.subplots(5, 3, sharex=True, sharey=True, figsize=(12,15))\n",
    "    ix = draft_df_2.Pos == position\n",
    "    kmf.fit( duration[ix], observed[ix], label=position )\n",
    "    kmf.plot(ax=ax, legend=False)\n",
    "    ax.annotate(\"Median = {:.0f} yrs\".format(kmf.median_), xy = (.4, .85), \n",
    "            xycoords = \"axes fraction\")\n",
    "    plt.title(position)\n",
    "    plt.xlabel(\"\")\n",
    "    plt.xlim(0,25)\n",
    "    plt.ylim(0,1)\n",
    "#     if i==0:\n",
    "#         plt.ylabel('Frac. in power after $n$ years')\n",
    "plt.tight_layout()\n",
    "\n",
    "fig.suptitle(\"Survival Function for each NFL Position\\n(Drafted Players only)\",\n",
    "             fontsize=20)\n",
    "plt.subplots_adjust(top=0.92)"
   ]
  },
  {
   "cell_type": "code",
   "execution_count": null,
   "metadata": {
    "collapsed": true
   },
   "outputs": [],
   "source": [
    "for i, a in enumerate(ax.flatten()):a.plot(x,x**i"
   ]
  },
  {
   "cell_type": "code",
   "execution_count": 42,
   "metadata": {
    "collapsed": false
   },
   "outputs": [
    {
     "data": {
      "text/plain": [
       "<matplotlib.text.Text at 0x7fcf0a9f4e80>"
      ]
     },
     "execution_count": 42,
     "metadata": {},
     "output_type": "execute_result"
    },
    {
     "data": {
      "image/png": "[encoded data removed]",
      "text/plain": [
       "<matplotlib.figure.Figure at 0x7fcf0d9327b8>"
      ]
     },
     "metadata": {},
     "output_type": "display_data"
    }
   ],
   "source": [
    "fig, ax = plt.subplots(nrows=3, ncols=3, sharex=True, sharey=True, figsize=(6, 6))\n",
    "\n",
    "fig.text(0.5, 0.04, 'common X', ha='center')\n",
    "fig.text(0.04, 0.5, 'common Y', va='center', rotation='vertical')\n"
   ]
  },
  {
   "cell_type": "markdown",
   "metadata": {},
   "source": [
    "# TODO\n",
    "- Try by games played\n",
    "- Try RBs by carries\n",
    "- Then delve into explanations\n",
    "- Leave Hazard function for another post?"
   ]
  },
  {
   "cell_type": "markdown",
   "metadata": {},
   "source": [
    "# Sources\n",
    "\n",
    "http://www.csee.wvu.edu/~xinl/library/papers/math/statistics/kaplan.pdf\n",
    "https://lifelines.readthedocs.io/en/latest/Intro%20to%20lifelines.html\n",
    "https://www.amazon.com/Survival-Analysis-Self-Learning-Statistics-Biology/dp/1441966455/ref=sr_1_1?ie=UTF8&qid=1469425536&sr=8-1&keywords=survival+analysis\n",
    "https://www.cscu.cornell.edu/news/statnews/stnews78.pdf\n",
    "https://www.ncbi.nlm.nih.gov/pmc/articles/PMC3932959/\n",
    "https://www.ncbi.nlm.nih.gov/pmc/articles/PMC3059453/\n",
    "http://www.garfield.library.upenn.edu/classics1983/A1983QS51100001.pdf"
   ]
  },
  {
   "cell_type": "code",
   "execution_count": null,
   "metadata": {
    "collapsed": true
   },
   "outputs": [],
   "source": []
  }
 ],
 "metadata": {
  "kernelspec": {
   "display_name": "Python 3",
   "language": "python",
   "name": "python3"
  },
  "language_info": {
   "codemirror_mode": {
    "name": "ipython",
    "version": 3
   },
   "file_extension": ".py",
   "mimetype": "text/x-python",
   "name": "python",
   "nbconvert_exporter": "python",
   "pygments_lexer": "ipython3",
   "version": "3.5.1"
  },
  "nav_menu": {},
  "toc": {
   "navigate_menu": true,
   "number_sections": false,
   "sideBar": false,
   "threshold": 6,
   "toc_cell": false,
   "toc_section_display": "block",
   "toc_window_display": false
  }
 },
 "nbformat": 4,
 "nbformat_minor": 0
}
